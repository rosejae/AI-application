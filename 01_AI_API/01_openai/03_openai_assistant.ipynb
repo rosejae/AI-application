{
 "cells": [
  {
   "cell_type": "code",
   "execution_count": 1,
   "id": "ea8a9dfd",
   "metadata": {},
   "outputs": [
    {
     "data": {
      "text/plain": [
       "True"
      ]
     },
     "execution_count": 1,
     "metadata": {},
     "output_type": "execute_result"
    }
   ],
   "source": [
    "from dotenv import load_dotenv\n",
    "import os \n",
    "\n",
    "load_dotenv()"
   ]
  },
  {
   "cell_type": "markdown",
   "id": "7fe66d52",
   "metadata": {},
   "source": [
    "## <font color=yellow> Chat Completions API vs Assistants API</font>\n",
    "\n",
    "**Chat Completions API**의 기본 단위는 `Messages`이며, 여기에 `Model`(`gpt-3.5-turbo`, `gpt-4` 등)을 사용하여 `Completion`을 수행함 \n",
    "- 이 API는 가볍고 강력하지만 본질적으로 상태가 없기 때문에 대화 상태, 도구 정의, 검색 문서, 코드 실행을 수동으로 관리해야 함\n",
    "\n",
    "**Assistants API**의 기본 단위는 다음과 같음\n",
    "- 기본 모델, 지침, 도구, 문서(문맥)를 포함하는 `Assistants`,\n",
    "- 대화의 상태를 나타내는 `Threads`,\n",
    "- 텍스트 응답 및 다단계 도구 사용을 포함하여 `Thread`에서 `Assistant`의 실행을 구동하는 `Runs`.\n",
    "    - 특정 Thread 안에서 Assistant가 실제로 동작하도록 요청함\n",
    "    - 답변 생성, 도구 사용 등을 포함"
   ]
  },
  {
   "cell_type": "markdown",
   "id": "cb277cdf",
   "metadata": {},
   "source": [
    "전체 흐름\n",
    "- Assistant 생성 → 어떤 비서인지 설정\n",
    "- Thread 시작 → 대화 시작\n",
    "- Run 요청 → 실제로 Assistant가 동작해 응답함"
   ]
  },
  {
   "cell_type": "code",
   "execution_count": 2,
   "id": "1683aa6e",
   "metadata": {},
   "outputs": [],
   "source": [
    "import json\n",
    "\n",
    "def show_json(obj):\n",
    "    display(json.loads(obj.model_dump_json()))"
   ]
  },
  {
   "cell_type": "markdown",
   "id": "21d1913e",
   "metadata": {},
   "source": [
    "## <font color=yellow>1. Assistants 만들기</font>\n",
    "- Assistants를 홈페이지에서 만들 수도 있고, 아래와 같이도 만들 수 있음"
   ]
  },
  {
   "cell_type": "code",
   "execution_count": 3,
   "id": "f82d1f54",
   "metadata": {},
   "outputs": [
    {
     "data": {
      "text/plain": [
       "{'id': 'asst_QmH9Sj6swOlyTHjkn7VMhekO',\n",
       " 'created_at': 1753255983,\n",
       " 'description': None,\n",
       " 'instructions': '너는 개인 수학 교사야. 질문에 한 문장 이하로 짧게 답해줘',\n",
       " 'metadata': {},\n",
       " 'model': 'gpt-4o',\n",
       " 'name': 'Math Tutor',\n",
       " 'object': 'assistant',\n",
       " 'tools': [],\n",
       " 'response_format': 'auto',\n",
       " 'temperature': 1.0,\n",
       " 'tool_resources': {'code_interpreter': None, 'file_search': None},\n",
       " 'top_p': 1.0,\n",
       " 'reasoning_effort': None}"
      ]
     },
     "metadata": {},
     "output_type": "display_data"
    }
   ],
   "source": [
    "from openai import OpenAI\n",
    "\n",
    "client = OpenAI()\n",
    "\n",
    "assistant = client.beta.assistants.create(\n",
    "    name=\"Math Tutor\",\n",
    "    instructions=\"너는 개인 수학 교사야. 질문에 한 문장 이하로 짧게 답해줘\",\n",
    "    model=\"gpt-4o\",\n",
    ")\n",
    "show_json(assistant)"
   ]
  },
  {
   "cell_type": "code",
   "execution_count": 5,
   "id": "148421b5",
   "metadata": {},
   "outputs": [
    {
     "data": {
      "text/plain": [
       "Assistant(id='asst_QmH9Sj6swOlyTHjkn7VMhekO', created_at=1753255983, description=None, instructions='너는 개인 수학 교사야. 질문에 한 문장 이하로 짧게 답해줘', metadata={}, model='gpt-4o', name='Math Tutor', object='assistant', tools=[], response_format='auto', temperature=1.0, tool_resources=ToolResources(code_interpreter=None, file_search=None), top_p=1.0, reasoning_effort=None)"
      ]
     },
     "execution_count": 5,
     "metadata": {},
     "output_type": "execute_result"
    }
   ],
   "source": [
    "assistant"
   ]
  },
  {
   "cell_type": "code",
   "execution_count": 4,
   "id": "149192c4",
   "metadata": {},
   "outputs": [
    {
     "data": {
      "text/plain": [
       "{'id': 'asst_QmH9Sj6swOlyTHjkn7VMhekO',\n",
       " 'created_at': 1753255983,\n",
       " 'description': None,\n",
       " 'instructions': '너는 개인 수학 교사야. 질문에 한 문장 이하로 짧게 답해줘',\n",
       " 'metadata': {},\n",
       " 'model': 'gpt-4o',\n",
       " 'name': 'Math Tutor',\n",
       " 'object': 'assistant',\n",
       " 'tools': [],\n",
       " 'response_format': 'auto',\n",
       " 'temperature': 1.0,\n",
       " 'tool_resources': {'code_interpreter': None, 'file_search': None},\n",
       " 'top_p': 1.0,\n",
       " 'reasoning_effort': None}"
      ]
     },
     "execution_count": 4,
     "metadata": {},
     "output_type": "execute_result"
    }
   ],
   "source": [
    "assistant.model_dump()"
   ]
  },
  {
   "cell_type": "markdown",
   "id": "840f8e86",
   "metadata": {},
   "source": [
    "## <font color=yellow>2. Threads 만들기</font>\n",
    "- Assistant는 여러개의 Threads를 만들 수 있음\n",
    "- 한 사람과 대화하는게 아니기 때문에"
   ]
  },
  {
   "cell_type": "code",
   "execution_count": 4,
   "id": "65ddc981",
   "metadata": {},
   "outputs": [
    {
     "name": "stderr",
     "output_type": "stream",
     "text": [
      "C:\\Users\\jjsd4\\AppData\\Local\\Temp\\ipykernel_32260\\480294517.py:1: DeprecationWarning: The Assistants API is deprecated in favor of the Responses API\n",
      "  thread = client.beta.threads.create()\n"
     ]
    },
    {
     "data": {
      "text/plain": [
       "{'id': 'thread_D97HMuorDUdCSxehSzzucm02',\n",
       " 'created_at': 1753185038,\n",
       " 'metadata': {},\n",
       " 'object': 'thread',\n",
       " 'tool_resources': {'code_interpreter': None, 'file_search': None}}"
      ]
     },
     "metadata": {},
     "output_type": "display_data"
    }
   ],
   "source": [
    "thread = client.beta.threads.create()\n",
    "show_json(thread)"
   ]
  },
  {
   "cell_type": "code",
   "execution_count": 5,
   "id": "e14be7e3",
   "metadata": {},
   "outputs": [
    {
     "name": "stderr",
     "output_type": "stream",
     "text": [
      "C:\\Users\\jjsd4\\AppData\\Local\\Temp\\ipykernel_32260\\2549837072.py:1: DeprecationWarning: The Assistants API is deprecated in favor of the Responses API\n",
      "  message = client.beta.threads.messages.create(\n"
     ]
    },
    {
     "data": {
      "text/plain": [
       "{'id': 'msg_KMG3hwEwYfIbQJTyp4MFuY7j',\n",
       " 'assistant_id': None,\n",
       " 'attachments': [],\n",
       " 'completed_at': None,\n",
       " 'content': [{'text': {'annotations': [], 'value': \"방정식 '3x + 11 = 14'를 풀어줘\"},\n",
       "   'type': 'text'}],\n",
       " 'created_at': 1753185047,\n",
       " 'incomplete_at': None,\n",
       " 'incomplete_details': None,\n",
       " 'metadata': {},\n",
       " 'object': 'thread.message',\n",
       " 'role': 'user',\n",
       " 'run_id': None,\n",
       " 'status': None,\n",
       " 'thread_id': 'thread_D97HMuorDUdCSxehSzzucm02'}"
      ]
     },
     "metadata": {},
     "output_type": "display_data"
    }
   ],
   "source": [
    "message = client.beta.threads.messages.create(\n",
    "    thread_id=thread.id,\n",
    "    role=\"user\",\n",
    "    content=\"방정식 '3x + 11 = 14'를 풀어줘\"\n",
    ")\n",
    "show_json(message)"
   ]
  },
  {
   "cell_type": "markdown",
   "id": "22ffee88",
   "metadata": {},
   "source": [
    "## <font color=yellow>3. Runs</font>\n",
    "- Threads를 Assistant와 연결\n",
    "- Thread에 대한 Assistant의 Completion을 얻으려면 Run을 생성해야함\n",
    "- Run을 생성하면 Assistant에게 Thread의 메시지를 살펴보고 조취를 취하라는 지시가 됨\n",
    "    - 단일 응답을 추가하거나 도구를 사용할 수 있음\n",
    "\n",
    "Runs는 Assistants API와 Chat Completions API 사이의 주요 차이점\n",
    "- Chat Completions에서는 모델이 단일 메시지로만 응답할 수 있는 반면, Assistants API에서는 Run을 통해 Assistant가 하나 또는 여러 도구를 사용하고 Thread에 여러 메시지를 추가 할 수 있음"
   ]
  },
  {
   "cell_type": "code",
   "execution_count": 6,
   "id": "66f82ba7",
   "metadata": {},
   "outputs": [
    {
     "name": "stderr",
     "output_type": "stream",
     "text": [
      "C:\\Users\\jjsd4\\AppData\\Local\\Temp\\ipykernel_32260\\3837867860.py:1: DeprecationWarning: The Assistants API is deprecated in favor of the Responses API\n",
      "  run = client.beta.threads.runs.create(\n"
     ]
    },
    {
     "data": {
      "text/plain": [
       "{'id': 'run_VM0izCrE2IAuBcYNdEtUSkWG',\n",
       " 'assistant_id': 'asst_ABxisLXuhXXBuVLYrk3sJJlR',\n",
       " 'cancelled_at': None,\n",
       " 'completed_at': None,\n",
       " 'created_at': 1753185064,\n",
       " 'expires_at': 1753185664,\n",
       " 'failed_at': None,\n",
       " 'incomplete_details': None,\n",
       " 'instructions': '너는 개인 수학 교사야. 질문에 한 문장 이하로 짧게 답해줘',\n",
       " 'last_error': None,\n",
       " 'max_completion_tokens': None,\n",
       " 'max_prompt_tokens': None,\n",
       " 'metadata': {},\n",
       " 'model': 'gpt-4o',\n",
       " 'object': 'thread.run',\n",
       " 'parallel_tool_calls': True,\n",
       " 'required_action': None,\n",
       " 'response_format': 'auto',\n",
       " 'started_at': None,\n",
       " 'status': 'queued',\n",
       " 'thread_id': 'thread_D97HMuorDUdCSxehSzzucm02',\n",
       " 'tool_choice': 'auto',\n",
       " 'tools': [],\n",
       " 'truncation_strategy': {'type': 'auto', 'last_messages': None},\n",
       " 'usage': None,\n",
       " 'temperature': 1.0,\n",
       " 'top_p': 1.0,\n",
       " 'tool_resources': {},\n",
       " 'reasoning_effort': None}"
      ]
     },
     "metadata": {},
     "output_type": "display_data"
    }
   ],
   "source": [
    "run = client.beta.threads.runs.create(\n",
    "    thread_id=thread.id,\n",
    "    assistant_id=assistant.id,\n",
    ")\n",
    "show_json(run)"
   ]
  },
  {
   "cell_type": "markdown",
   "id": "8dc2f3e3",
   "metadata": {},
   "source": [
    "Chat Completions API에서 완성을 생성하는 것과 달리, Run을 생성하는 것은 비동기 작업임 \n",
    "- 이 작업은 Run의 메타데이터와 함께 즉시 반환되며, 여기에는 처음에 `queued`로 설정된 `status`가 포함됨 \n",
    "- Assistant가 도구 사용과 메시지 추가와 같은 작업을 수행함에 따라 `status`가 업데이트됨\n",
    "\n",
    "Assistant가 처리를 완료했는지 알기 위해, 우리는 Run을 반복적으로 폴링할 수 있습니다. (스트리밍 지원이 곧 제공될 예정)\n",
    "- 여기서는 `queued` 또는 `in_progress` 상태만 확인하지만, 실제로 Run은 사용자에게 표시할 수 있는 [다양한 상태 변경](https://platform.openai.com/docs/api-reference/runs/object#runs/object-status)을 겪을 수 있음 \n",
    "    - (이것들을 Steps라고 하며 나중에 다룰 것입니다.)\n",
    "    - 완료가 되면 queued, in_progress가 아닌 상태가 되는 듯 (현재 동작중인 상황)"
   ]
  },
  {
   "cell_type": "code",
   "execution_count": 8,
   "id": "b2519cd5",
   "metadata": {},
   "outputs": [],
   "source": [
    "import time\n",
    "\n",
    "def wait_on_run(run, thread):\n",
    "    while run.status == \"queued\" or run.status == \"in_progress\":\n",
    "        run = client.beta.threads.runs.retrieve(\n",
    "            thread_id=thread.id,\n",
    "            run_id=run.id,\n",
    "        )\n",
    "        time.sleep(0.5)\n",
    "    return run"
   ]
  },
  {
   "cell_type": "markdown",
   "id": "c4785a5a",
   "metadata": {},
   "source": [
    "<font color=green> run중이면 return하지 않고 있다가, 완료가 되면 return 하게 됨</font>\n",
    "- 완료가 되었기 때문에 return됨"
   ]
  },
  {
   "cell_type": "code",
   "execution_count": 9,
   "id": "9222d14c",
   "metadata": {},
   "outputs": [
    {
     "name": "stderr",
     "output_type": "stream",
     "text": [
      "C:\\Users\\jjsd4\\AppData\\Local\\Temp\\ipykernel_32260\\3504579710.py:5: DeprecationWarning: The Assistants API is deprecated in favor of the Responses API\n",
      "  run = client.beta.threads.runs.retrieve(\n"
     ]
    },
    {
     "data": {
      "text/plain": [
       "{'id': 'run_VM0izCrE2IAuBcYNdEtUSkWG',\n",
       " 'assistant_id': 'asst_ABxisLXuhXXBuVLYrk3sJJlR',\n",
       " 'cancelled_at': None,\n",
       " 'completed_at': 1753185067,\n",
       " 'created_at': 1753185064,\n",
       " 'expires_at': None,\n",
       " 'failed_at': None,\n",
       " 'incomplete_details': None,\n",
       " 'instructions': '너는 개인 수학 교사야. 질문에 한 문장 이하로 짧게 답해줘',\n",
       " 'last_error': None,\n",
       " 'max_completion_tokens': None,\n",
       " 'max_prompt_tokens': None,\n",
       " 'metadata': {},\n",
       " 'model': 'gpt-4o',\n",
       " 'object': 'thread.run',\n",
       " 'parallel_tool_calls': True,\n",
       " 'required_action': None,\n",
       " 'response_format': 'auto',\n",
       " 'started_at': 1753185065,\n",
       " 'status': 'completed',\n",
       " 'thread_id': 'thread_D97HMuorDUdCSxehSzzucm02',\n",
       " 'tool_choice': 'auto',\n",
       " 'tools': [],\n",
       " 'truncation_strategy': {'type': 'auto', 'last_messages': None},\n",
       " 'usage': {'completion_tokens': 6,\n",
       "  'prompt_tokens': 68,\n",
       "  'total_tokens': 74,\n",
       "  'prompt_token_details': {'cached_tokens': 0},\n",
       "  'completion_tokens_details': {'reasoning_tokens': 0}},\n",
       " 'temperature': 1.0,\n",
       " 'top_p': 1.0,\n",
       " 'tool_resources': {},\n",
       " 'reasoning_effort': None}"
      ]
     },
     "metadata": {},
     "output_type": "display_data"
    }
   ],
   "source": [
    "run = wait_on_run(run, thread)\n",
    "show_json(run)"
   ]
  },
  {
   "cell_type": "markdown",
   "id": "9f27ab1c",
   "metadata": {},
   "source": [
    "## <font color=yellow>4. Messages</font>\n",
    "- Run이 완료되었으므로, Assistant가 무엇을 추가했는지 보기 위해 Thread 안의 메시지들을 나열할 수 있음"
   ]
  },
  {
   "cell_type": "code",
   "execution_count": 10,
   "id": "832539e9",
   "metadata": {},
   "outputs": [
    {
     "name": "stderr",
     "output_type": "stream",
     "text": [
      "C:\\Users\\jjsd4\\AppData\\Local\\Temp\\ipykernel_32260\\3890215631.py:1: DeprecationWarning: The Assistants API is deprecated in favor of the Responses API\n",
      "  messages = client.beta.threads.messages.list(thread_id=thread.id)\n"
     ]
    },
    {
     "data": {
      "text/plain": [
       "{'data': [{'id': 'msg_qZB88CYpEVrFZY790qesjwiu',\n",
       "   'assistant_id': 'asst_ABxisLXuhXXBuVLYrk3sJJlR',\n",
       "   'attachments': [],\n",
       "   'completed_at': None,\n",
       "   'content': [{'text': {'annotations': [], 'value': 'x = 1'},\n",
       "     'type': 'text'}],\n",
       "   'created_at': 1753185066,\n",
       "   'incomplete_at': None,\n",
       "   'incomplete_details': None,\n",
       "   'metadata': {},\n",
       "   'object': 'thread.message',\n",
       "   'role': 'assistant',\n",
       "   'run_id': 'run_VM0izCrE2IAuBcYNdEtUSkWG',\n",
       "   'status': None,\n",
       "   'thread_id': 'thread_D97HMuorDUdCSxehSzzucm02'},\n",
       "  {'id': 'msg_KMG3hwEwYfIbQJTyp4MFuY7j',\n",
       "   'assistant_id': None,\n",
       "   'attachments': [],\n",
       "   'completed_at': None,\n",
       "   'content': [{'text': {'annotations': [],\n",
       "      'value': \"방정식 '3x + 11 = 14'를 풀어줘\"},\n",
       "     'type': 'text'}],\n",
       "   'created_at': 1753185047,\n",
       "   'incomplete_at': None,\n",
       "   'incomplete_details': None,\n",
       "   'metadata': {},\n",
       "   'object': 'thread.message',\n",
       "   'role': 'user',\n",
       "   'run_id': None,\n",
       "   'status': None,\n",
       "   'thread_id': 'thread_D97HMuorDUdCSxehSzzucm02'}],\n",
       " 'has_more': False,\n",
       " 'object': 'list',\n",
       " 'first_id': 'msg_qZB88CYpEVrFZY790qesjwiu',\n",
       " 'last_id': 'msg_KMG3hwEwYfIbQJTyp4MFuY7j'}"
      ]
     },
     "metadata": {},
     "output_type": "display_data"
    }
   ],
   "source": [
    "messages = client.beta.threads.messages.list(thread_id=thread.id)\n",
    "show_json(messages)"
   ]
  },
  {
   "cell_type": "markdown",
   "id": "cd02ea27",
   "metadata": {},
   "source": [
    "보시다시피 메시지들은 역시간 순서로 정렬되어 있음 \n",
    "- 첫번째 딕셔너리가 최근 답변한 것임\n",
    "- 이렇게 함으로써 가장 최근의 결과가 항상 첫 번째 '페이지'에 있게 됨 (결과는 페이지네이션 될 수 있으므로) \n",
    "- 이는 Chat Completions API의 메시지 순서와 반대이므로 주의해야 함"
   ]
  },
  {
   "cell_type": "markdown",
   "id": "c993ecc3",
   "metadata": {},
   "source": [
    "### <font color=green>모델에서 풀이과정을 더 설명해달라고 요청해보겠음</font>"
   ]
  },
  {
   "cell_type": "code",
   "execution_count": 11,
   "id": "5a9647e3",
   "metadata": {},
   "outputs": [
    {
     "name": "stderr",
     "output_type": "stream",
     "text": [
      "C:\\Users\\jjsd4\\AppData\\Local\\Temp\\ipykernel_32260\\857599754.py:2: DeprecationWarning: The Assistants API is deprecated in favor of the Responses API\n",
      "  message = client.beta.threads.messages.create(\n",
      "C:\\Users\\jjsd4\\AppData\\Local\\Temp\\ipykernel_32260\\857599754.py:7: DeprecationWarning: The Assistants API is deprecated in favor of the Responses API\n",
      "  run = client.beta.threads.runs.create(\n",
      "C:\\Users\\jjsd4\\AppData\\Local\\Temp\\ipykernel_32260\\3504579710.py:5: DeprecationWarning: The Assistants API is deprecated in favor of the Responses API\n",
      "  run = client.beta.threads.runs.retrieve(\n",
      "C:\\Users\\jjsd4\\AppData\\Local\\Temp\\ipykernel_32260\\857599754.py:16: DeprecationWarning: The Assistants API is deprecated in favor of the Responses API\n",
      "  messages = client.beta.threads.messages.list(\n"
     ]
    },
    {
     "data": {
      "text/plain": [
       "{'data': [{'id': 'msg_toqXm1vuWdmfl4FAsXy0YPmo',\n",
       "   'assistant_id': 'asst_ABxisLXuhXXBuVLYrk3sJJlR',\n",
       "   'attachments': [],\n",
       "   'completed_at': None,\n",
       "   'content': [{'text': {'annotations': [],\n",
       "      'value': '양쪽에서 11을 빼서 3x = 3을 만든 후, 3으로 나누면 x = 1입니다.'},\n",
       "     'type': 'text'}],\n",
       "   'created_at': 1753185321,\n",
       "   'incomplete_at': None,\n",
       "   'incomplete_details': None,\n",
       "   'metadata': {},\n",
       "   'object': 'thread.message',\n",
       "   'role': 'assistant',\n",
       "   'run_id': 'run_S5ZyPR7DHPAnLCBy7I4dvGTv',\n",
       "   'status': None,\n",
       "   'thread_id': 'thread_D97HMuorDUdCSxehSzzucm02'}],\n",
       " 'has_more': False,\n",
       " 'object': 'list',\n",
       " 'first_id': 'msg_toqXm1vuWdmfl4FAsXy0YPmo',\n",
       " 'last_id': 'msg_toqXm1vuWdmfl4FAsXy0YPmo'}"
      ]
     },
     "metadata": {},
     "output_type": "display_data"
    }
   ],
   "source": [
    "# Create a message to append to our thread\n",
    "message = client.beta.threads.messages.create(\n",
    "    thread_id=thread.id, role=\"user\", content=\"설명해 주시겠어요?\"\n",
    ")\n",
    "\n",
    "# Execute our run\n",
    "run = client.beta.threads.runs.create(\n",
    "    thread_id=thread.id,\n",
    "    assistant_id=assistant.id,\n",
    ")\n",
    "\n",
    "# Wait for completion\n",
    "wait_on_run(run, thread)\n",
    "\n",
    "# Retrieve all the messages added after our last user message\n",
    "messages = client.beta.threads.messages.list(\n",
    "    thread_id=thread.id, order=\"asc\", after=message.id\n",
    ")\n",
    "show_json(messages)"
   ]
  },
  {
   "cell_type": "markdown",
   "id": "0cdd4142",
   "metadata": {},
   "source": [
    "<font color=red>이 코드를 거의 변경하지 않고도, 우리의 Assistant에 매우 강력한 기능을 추가할 수 있는 방법을 곧 보게 될것임</font>"
   ]
  },
  {
   "cell_type": "code",
   "execution_count": null,
   "id": "afa29b25",
   "metadata": {},
   "outputs": [],
   "source": []
  }
 ],
 "metadata": {
  "kernelspec": {
   "display_name": "torch",
   "language": "python",
   "name": "python3"
  },
  "language_info": {
   "codemirror_mode": {
    "name": "ipython",
    "version": 3
   },
   "file_extension": ".py",
   "mimetype": "text/x-python",
   "name": "python",
   "nbconvert_exporter": "python",
   "pygments_lexer": "ipython3",
   "version": "3.11.8"
  }
 },
 "nbformat": 4,
 "nbformat_minor": 5
}
