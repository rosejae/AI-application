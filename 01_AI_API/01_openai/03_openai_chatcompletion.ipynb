{
 "cells": [
  {
   "cell_type": "markdown",
   "id": "fdc581a1",
   "metadata": {},
   "source": [
    "load_dotenv()는 python 코드 안에서만 유효함\n",
    "- bash 쉘 스크립트를 사용하려면 export를 사용해야함"
   ]
  },
  {
   "cell_type": "code",
   "execution_count": 2,
   "id": "b53f4e0e",
   "metadata": {},
   "outputs": [
    {
     "data": {
      "text/plain": [
       "True"
      ]
     },
     "execution_count": 2,
     "metadata": {},
     "output_type": "execute_result"
    }
   ],
   "source": [
    "from dotenv import load_dotenv\n",
    "import os \n",
    "\n",
    "load_dotenv()"
   ]
  },
  {
   "cell_type": "markdown",
   "id": "78d0dbcd",
   "metadata": {},
   "source": [
    "call_chat_completion.sh\n",
    "- 윈도우여서 아래 명령어들이 안먹힘\n",
    "\n",
    "<pre><code>\"\"\"\n",
    "!cat ./call_chat_completion.sh\n",
    "!chmod +x ./call_chat_completion.sh\n",
    "!./call_chat_completion.sh\n",
    "\"\"\"</code></pre>"
   ]
  },
  {
   "cell_type": "code",
   "execution_count": null,
   "id": "842c1736",
   "metadata": {},
   "outputs": [],
   "source": [
    "# #!/usr/bin/env bash\n",
    "\n",
    "\n",
    "# curl https://api.openai.com/v1/chat/completions \\\n",
    "#   -H \"Content-Type: application/json\" \\\n",
    "#   -H \"Authorization: Bearer $OPENAI_API_KEY\" \\\n",
    "#   -d '{\n",
    "#     \"model\": \"gpt-3.5-turbo\",\n",
    "#     \"messages\": [\n",
    "#       {\n",
    "#         \"role\": \"system\",\n",
    "#         \"content\": \"너는 감정분류를 수행한다. user의 텍스트의 감정이 긍정이면 positive, 부정적이면 negative를 출력한다.\"\n",
    "#       },\n",
    "#       {\n",
    "#         \"role\": \"user\",\n",
    "#         \"content\": \"이 영화 너무 재미있다.\"\n",
    "#       }\n",
    "#     ]\n",
    "#   }'"
   ]
  },
  {
   "cell_type": "markdown",
   "id": "c42063e3",
   "metadata": {},
   "source": [
    "## <font color=yellow>1. OpenAI chat completions API 사용</font>"
   ]
  },
  {
   "cell_type": "code",
   "execution_count": 4,
   "id": "ec14fcbb",
   "metadata": {},
   "outputs": [],
   "source": [
    "from openai import OpenAI\n",
    "\n",
    "client = OpenAI()\n",
    "\n",
    "completion = client.chat.completions.create(\n",
    "  model=\"gpt-4o\", # gpt-4-turbo, gpt-4-turbo-2024-04-09, gpt-3.5-turbo, etc...\n",
    "  messages=[\n",
    "    {\"role\": \"system\", \"content\": \"너는 도움이 되는 AI어시스턴트이다.\"},\n",
    "    {\"role\": \"user\", \"content\": \"햄버거 만드는법 알려줘\"}\n",
    "  ]\n",
    ")"
   ]
  },
  {
   "cell_type": "markdown",
   "id": "a907337d",
   "metadata": {},
   "source": [
    "더 많은 모델들: https://platform.openai.com/docs/models"
   ]
  },
  {
   "cell_type": "code",
   "execution_count": 5,
   "id": "fb0fcd51",
   "metadata": {},
   "outputs": [
    {
     "data": {
      "text/plain": [
       "ChatCompletion(id='chatcmpl-BuB94Z5Yfl43BzDvivN9OKIIReF9i', choices=[Choice(finish_reason='stop', index=0, logprobs=None, message=ChatCompletionMessage(content='집에서 맛있는 햄버거를 만드는 방법을 알려드릴게요. 기본적인 햄버거 레시피로 시작해서 자신의 취향에 맞게 재료를 추가할 수 있습니다.\\n\\n### 재료:\\n- 다진 소고기 (보통 80% 고기, 20% 지방) 약 450g\\n- 소금과 후추\\n- 햄버거 번 2개\\n- 슬라이스 체다 치즈 2장 (선택 사항)\\n- 양상추\\n- 토마토 슬라이스\\n- 양파 슬라이스\\n- 피클\\n- 케첩과 머스터드 (또는 좋아하는 소스)\\n- 식용유\\n\\n### 조리 방법:\\n\\n1. **패티 만들기:**\\n   1. 다진 소고기를 약 225g씩 나누어 두 개의 패티로 만듭니다. 손으로 공 모양으로 만든 후 약간 납작하게 눌러주세요.\\n   2. 패티에 소금과 후추로 간을 합니다.\\n\\n2. **굽기:**\\n   1. 중불로 달궈진 팬이나 그릴에 약간의 식용유를 두릅니다.\\n   2. 패티를 팬에 올리고 한쪽 면을 약 3-4분간 굽습니다. 피가 올라오고 가장자리가 갈색이 되면 뒤집습니다.\\n   3. 뒤집은 후 치즈를 추가하고 추가로 3-4분 더 익힙니다.\\n\\n3. **번 준비:**\\n   1. 패티가 익는 동안 햄버거 번의 안쪽면을 약간의 버터를 발라 살짝 구워줍니다.\\n\\n4. **조립하기:**\\n   1. 번의 아래쪽에 양상추를 깔아 패티에서 나오는 육즙이 번에 스며드는 것을 방지합니다.\\n   2. 그 위에 패티를 올리고 슬라이스 체다 치즈를 얹습니다.\\n   3. 토마토, 양파, 피클을 원하는 만큼 얹습니다.\\n   4. 마지막으로 번의 윗부분에 케첩, 머스터드 등 소스를 바른 후 덮어줍니다.\\n\\n5. **완성:**\\n   1. 햄버거를 반으로 잘라서 맛있게 즐기세요!\\n\\n이 기본 레시피를 바탕으로 베이컨, 아보카도, 구운 버섯 등의 추가 재료로 자신만의 햄버거를 만들어 보세요. 즐거운 요리 시간 되세요!', refusal=None, role='assistant', annotations=[], audio=None, function_call=None, tool_calls=None))], created=1752728910, model='gpt-4o-2024-08-06', object='chat.completion', service_tier='default', system_fingerprint=None, usage=CompletionUsage(completion_tokens=575, prompt_tokens=31, total_tokens=606, completion_tokens_details=CompletionTokensDetails(accepted_prediction_tokens=0, audio_tokens=0, reasoning_tokens=0, rejected_prediction_tokens=0), prompt_tokens_details=PromptTokensDetails(audio_tokens=0, cached_tokens=0)))"
      ]
     },
     "execution_count": 5,
     "metadata": {},
     "output_type": "execute_result"
    }
   ],
   "source": [
    "completion"
   ]
  },
  {
   "cell_type": "code",
   "execution_count": 6,
   "id": "bae09d9d",
   "metadata": {},
   "outputs": [
    {
     "name": "stdout",
     "output_type": "stream",
     "text": [
      "집에서 맛있는 햄버거를 만드는 방법을 알려드릴게요. 기본적인 햄버거 레시피로 시작해서 자신의 취향에 맞게 재료를 추가할 수 있습니다.\n",
      "\n",
      "### 재료:\n",
      "- 다진 소고기 (보통 80% 고기, 20% 지방) 약 450g\n",
      "- 소금과 후추\n",
      "- 햄버거 번 2개\n",
      "- 슬라이스 체다 치즈 2장 (선택 사항)\n",
      "- 양상추\n",
      "- 토마토 슬라이스\n",
      "- 양파 슬라이스\n",
      "- 피클\n",
      "- 케첩과 머스터드 (또는 좋아하는 소스)\n",
      "- 식용유\n",
      "\n",
      "### 조리 방법:\n",
      "\n",
      "1. **패티 만들기:**\n",
      "   1. 다진 소고기를 약 225g씩 나누어 두 개의 패티로 만듭니다. 손으로 공 모양으로 만든 후 약간 납작하게 눌러주세요.\n",
      "   2. 패티에 소금과 후추로 간을 합니다.\n",
      "\n",
      "2. **굽기:**\n",
      "   1. 중불로 달궈진 팬이나 그릴에 약간의 식용유를 두릅니다.\n",
      "   2. 패티를 팬에 올리고 한쪽 면을 약 3-4분간 굽습니다. 피가 올라오고 가장자리가 갈색이 되면 뒤집습니다.\n",
      "   3. 뒤집은 후 치즈를 추가하고 추가로 3-4분 더 익힙니다.\n",
      "\n",
      "3. **번 준비:**\n",
      "   1. 패티가 익는 동안 햄버거 번의 안쪽면을 약간의 버터를 발라 살짝 구워줍니다.\n",
      "\n",
      "4. **조립하기:**\n",
      "   1. 번의 아래쪽에 양상추를 깔아 패티에서 나오는 육즙이 번에 스며드는 것을 방지합니다.\n",
      "   2. 그 위에 패티를 올리고 슬라이스 체다 치즈를 얹습니다.\n",
      "   3. 토마토, 양파, 피클을 원하는 만큼 얹습니다.\n",
      "   4. 마지막으로 번의 윗부분에 케첩, 머스터드 등 소스를 바른 후 덮어줍니다.\n",
      "\n",
      "5. **완성:**\n",
      "   1. 햄버거를 반으로 잘라서 맛있게 즐기세요!\n",
      "\n",
      "이 기본 레시피를 바탕으로 베이컨, 아보카도, 구운 버섯 등의 추가 재료로 자신만의 햄버거를 만들어 보세요. 즐거운 요리 시간 되세요!\n"
     ]
    }
   ],
   "source": [
    "print(completion.choices[0].message.content)"
   ]
  },
  {
   "cell_type": "markdown",
   "id": "cc32c09a",
   "metadata": {},
   "source": [
    "## <font color=yellow>2. 가장 간단한 챗봇 만들기</font>"
   ]
  },
  {
   "cell_type": "code",
   "execution_count": 7,
   "id": "632c4a97",
   "metadata": {},
   "outputs": [],
   "source": [
    "system_instruction = \"\"\"\n",
    "너는 햄버거 가게 AI비서야\n",
    "\n",
    "아래는 햄버거 종류야. 아래 종류의 버거 말고는 다른 버거는 없어\n",
    "\n",
    "- 빅맥\n",
    "- 쿼터파운더\n",
    "- 치즈버거\n",
    "\n",
    "위의 메뉴 말고는 없다고 생각하면돼\n",
    "\n",
    "응답을 할 때는 존댓말로 한다.\n",
    "\"\"\""
   ]
  },
  {
   "cell_type": "code",
   "execution_count": 8,
   "id": "38dc60a2",
   "metadata": {},
   "outputs": [],
   "source": [
    "messages = [{\"role\": \"system\", \"content\": system_instruction}]\n",
    "\n",
    "def ask(text):\n",
    "    user_input = {\"role\": \"user\", \"content\": text}\n",
    "    messages.append(user_input)\n",
    "\n",
    "    response = client.chat.completions.create(\n",
    "        model=\"gpt-3.5-turbo\",\n",
    "        messages=messages)\n",
    "\n",
    "    bot_text = response.choices[0].message.content\n",
    "    bot_resp = {\"role\": \"assistant\", \"content\": bot_text}\n",
    "    messages.append(bot_resp)\n",
    "    return bot_text"
   ]
  },
  {
   "cell_type": "code",
   "execution_count": null,
   "id": "6733727c",
   "metadata": {},
   "outputs": [
    {
     "name": "stdout",
     "output_type": "stream",
     "text": [
      "bot: 죄송하지만, 제가 이해할 수 있는 정보는 햄버거 종류에 관한 것 뿐입니다. 다른 주제에 대해서는 도와드릴 수 없어요. 혹시 다른 질문이 있으시면 햄버거 관련해서 물어봐 주실 수 있을까요?\n",
      "bot: 햄버거에 관련된 질문이 있다면 무엇이든 물어봐 주세요! 가능한 범위 내에서 최대한 도와드리도록 노력하겠습니다.\n"
     ]
    }
   ],
   "source": [
    "while True:\n",
    "    user_input = input(\"user: \")\n",
    "    bot_resp = ask(user_input)\n",
    "    print(f\"bot: {bot_resp}\")"
   ]
  },
  {
   "cell_type": "code",
   "execution_count": null,
   "id": "5ac57f85",
   "metadata": {},
   "outputs": [],
   "source": []
  }
 ],
 "metadata": {
  "kernelspec": {
   "display_name": "torch",
   "language": "python",
   "name": "python3"
  },
  "language_info": {
   "codemirror_mode": {
    "name": "ipython",
    "version": 3
   },
   "file_extension": ".py",
   "mimetype": "text/x-python",
   "name": "python",
   "nbconvert_exporter": "python",
   "pygments_lexer": "ipython3",
   "version": "3.11.8"
  }
 },
 "nbformat": 4,
 "nbformat_minor": 5
}
