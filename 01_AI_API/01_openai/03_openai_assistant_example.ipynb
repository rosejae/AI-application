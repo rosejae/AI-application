{
 "cells": [
  {
   "cell_type": "markdown",
   "id": "f4051b9a",
   "metadata": {},
   "source": [
    "## <font color=yellow>Example</font>\n",
    "- 이 모든 것을 어떻게 결합할 수 있는지 살펴보겠음\n",
    "    - 아래는 생성한 Assistant를 사용하기 위해 필요한 모든 코드\n",
    "\n",
    "- 우리가 이미 수학 Assistant를 만들었기 때문에, 그 ID를 `MATH_ASSISTANT_ID`에 저장했음 \n",
    "- 그런 다음 두 개의 함수를 정의했음\n",
    "\n",
    "    - `submit_message`: Thread에 Message를 생성한 다음, 새로운 Run을 시작하고 반환\n",
    "    - `get_response`: Thread의 메시지 목록을 반환"
   ]
  },
  {
   "cell_type": "code",
   "execution_count": 23,
   "id": "aefc3ac0",
   "metadata": {},
   "outputs": [
    {
     "data": {
      "text/plain": [
       "True"
      ]
     },
     "execution_count": 23,
     "metadata": {},
     "output_type": "execute_result"
    }
   ],
   "source": [
    "from dotenv import load_dotenv\n",
    "import os \n",
    "\n",
    "load_dotenv()"
   ]
  },
  {
   "cell_type": "code",
   "execution_count": 24,
   "id": "ba741cbc",
   "metadata": {},
   "outputs": [],
   "source": [
    "from openai import OpenAI\n",
    "\n",
    "client = OpenAI()\n",
    "assistant = client.beta.assistants.create(\n",
    "    name=\"Math Tutor\",\n",
    "    instructions=\"너는 개인 수학 교사야. 질문에 한 문장 이하로 짧게 답해줘\",\n",
    "    model=\"gpt-4o\",\n",
    ")\n",
    "\n",
    "# 여기서 assistant를 만들어도 되고, OpenAI 홈페이지에서 만들어서 지정해줘도 됨\n",
    "MATH_ASSISTANT_ID = assistant.id  # or a hard-coded ID like \"asst-...\"\n",
    "\n",
    "def submit_message(assistant_id, thread, user_message):\n",
    "    client.beta.threads.messages.create(\n",
    "        thread_id=thread.id, role=\"user\", content=user_message\n",
    "    )\n",
    "    return client.beta.threads.runs.create(\n",
    "        thread_id=thread.id,\n",
    "        assistant_id=assistant_id,\n",
    "    )\n",
    "\n",
    "def get_response(thread):\n",
    "    return client.beta.threads.messages.list(thread_id=thread.id, order=\"asc\")"
   ]
  },
  {
   "cell_type": "markdown",
   "id": "d74f0195",
   "metadata": {},
   "source": [
    "또한 재사용할 수 있는 `create_thread_and_run` 함수를 정의했는데, 이는 실제로 우리 API의 [`client.beta.threads.create_and_run`](https://platform.openai.com/docs/api-reference/runs/createThreadAndRun) 복합 함수와 거의 동일함 \n",
    "- 마지막으로, 우리는 각각의 가상 사용자 요청을 새로운 Thread에 제출할 수 있음\n",
    "\n",
    "이 모든 API 호출은 비동기 작업이라는 점에 유의\n",
    "- 이는 우리가 `asyncio`와 같은 비동기 라이브러리의 사용 없이도 실제로 코드에서 비동기 동작을 얻을 수 있음을 의미"
   ]
  },
  {
   "cell_type": "code",
   "execution_count": 25,
   "id": "ab634e56",
   "metadata": {},
   "outputs": [
    {
     "name": "stderr",
     "output_type": "stream",
     "text": [
      "C:\\Users\\jjsd4\\AppData\\Local\\Temp\\ipykernel_8868\\1054163418.py:2: DeprecationWarning: The Assistants API is deprecated in favor of the Responses API\n",
      "  thread = client.beta.threads.create()\n",
      "C:\\Users\\jjsd4\\AppData\\Local\\Temp\\ipykernel_8868\\3121078466.py:14: DeprecationWarning: The Assistants API is deprecated in favor of the Responses API\n",
      "  client.beta.threads.messages.create(\n",
      "C:\\Users\\jjsd4\\AppData\\Local\\Temp\\ipykernel_8868\\3121078466.py:17: DeprecationWarning: The Assistants API is deprecated in favor of the Responses API\n",
      "  return client.beta.threads.runs.create(\n"
     ]
    }
   ],
   "source": [
    "def create_thread_and_run(user_input):\n",
    "    thread = client.beta.threads.create()\n",
    "    run = submit_message(MATH_ASSISTANT_ID, thread, user_input)\n",
    "    return thread, run\n",
    "\n",
    "# Emulating concurrent user requests\n",
    "thread1, run1 = create_thread_and_run(\"방정식 '3x + 11 = 14'를 풀어줘\")\n",
    "thread2, run2 = create_thread_and_run(\"선형대수에 대해 설명해줘\")\n",
    "thread3, run3 = create_thread_and_run(\"나는 수학을 싫어해. 어떻게 하면 좋을까?\")\n",
    "\n",
    "# Now all Runs are executing..."
   ]
  },
  {
   "cell_type": "markdown",
   "id": "6be79d4e",
   "metadata": {},
   "source": [
    "모든 Run이 진행되고 나면, 각각을 기다린 후 응답을 받을 수 있음"
   ]
  },
  {
   "cell_type": "code",
   "execution_count": 26,
   "id": "91c93c85",
   "metadata": {},
   "outputs": [
    {
     "name": "stderr",
     "output_type": "stream",
     "text": [
      "C:\\Users\\jjsd4\\AppData\\Local\\Temp\\ipykernel_8868\\2754427285.py:14: DeprecationWarning: The Assistants API is deprecated in favor of the Responses API\n",
      "  run = client.beta.threads.runs.retrieve(\n",
      "C:\\Users\\jjsd4\\AppData\\Local\\Temp\\ipykernel_8868\\3121078466.py:23: DeprecationWarning: The Assistants API is deprecated in favor of the Responses API\n",
      "  return client.beta.threads.messages.list(thread_id=thread.id, order=\"asc\")\n"
     ]
    },
    {
     "name": "stdout",
     "output_type": "stream",
     "text": [
      "# Messages\n",
      "user: 방정식 '3x + 11 = 14'를 풀어줘\n",
      "assistant: \\( x = 1 \\)\n",
      "\n",
      "# Messages\n",
      "user: 선형대수에 대해 설명해줘\n",
      "assistant: 선형대수는 벡터와 행렬을 중심으로 공부하는 수학의 한 분야입니다.\n",
      "\n",
      "# Messages\n",
      "user: 나는 수학을 싫어해. 어떻게 하면 좋을까?\n",
      "assistant: 작은 목표부터 시작해 재미있는 방법으로 접근해 보세요.\n",
      "\n"
     ]
    },
    {
     "name": "stderr",
     "output_type": "stream",
     "text": [
      "C:\\Users\\jjsd4\\AppData\\Local\\Temp\\ipykernel_8868\\3121078466.py:17: DeprecationWarning: The Assistants API is deprecated in favor of the Responses API\n",
      "  return client.beta.threads.runs.create(\n"
     ]
    },
    {
     "name": "stdout",
     "output_type": "stream",
     "text": [
      "# Messages\n",
      "user: 나는 수학을 싫어해. 어떻게 하면 좋을까?\n",
      "assistant: 작은 목표부터 시작해 재미있는 방법으로 접근해 보세요.\n",
      "user: 고마워\n",
      "assistant: 천만에요! 도움이 필요하면 언제든지 말씀하세요.\n",
      "\n"
     ]
    }
   ],
   "source": [
    "import time\n",
    "\n",
    "# Pretty printing helper\n",
    "def pretty_print(messages):\n",
    "    print(\"# Messages\")\n",
    "    for m in messages:\n",
    "        print(f\"{m.role}: {m.content[0].text.value}\")\n",
    "    print()\n",
    "\n",
    "\n",
    "# Waiting in a loop\n",
    "def wait_on_run(run, thread):\n",
    "    while run.status == \"queued\" or run.status == \"in_progress\":\n",
    "        run = client.beta.threads.runs.retrieve(\n",
    "            thread_id=thread.id,\n",
    "            run_id=run.id,\n",
    "        )\n",
    "        time.sleep(0.5)\n",
    "    return run\n",
    "\n",
    "\n",
    "# Wait for Run 1\n",
    "run1 = wait_on_run(run1, thread1)\n",
    "pretty_print(get_response(thread1))\n",
    "\n",
    "# Wait for Run 2\n",
    "run2 = wait_on_run(run2, thread2)\n",
    "pretty_print(get_response(thread2))\n",
    "\n",
    "# Wait for Run 3\n",
    "run3 = wait_on_run(run3, thread3)\n",
    "pretty_print(get_response(thread3))\n",
    "\n",
    "# Thank our assistant on Thread 3 :)\n",
    "run4 = submit_message(MATH_ASSISTANT_ID, thread3, \"고마워\")\n",
    "run4 = wait_on_run(run4, thread3)\n",
    "pretty_print(get_response(thread3))"
   ]
  },
  {
   "cell_type": "markdown",
   "id": "8f56d6ab",
   "metadata": {},
   "source": [
    "위 assistant는 수학에 특화되어 있지 않음\n",
    "- 수학에 특화되게 만드려면, Code Interpreter라는 것을 추가할 수 있음\n",
    "- Code Interpreter: 코드를 생성하고, 코드를 실행할 수 있는 능력 (코드를 통해 연산을 함)"
   ]
  },
  {
   "cell_type": "markdown",
   "id": "ea4c9d52",
   "metadata": {},
   "source": [
    "## <font color=yellow>Tools</font>\n",
    "\n",
    "- Assistants API의 핵심 기능 중 하나는 Code Interpreter, Retrieval 및 사용자 정의 Functions과 같은 도구를 우리의 Assistants에 장착할 수 있는 능력 \n",
    "\n",
    "### Code Interpreter\n",
    "\n",
    "- 우리의 수학 과외 선생님에게 [Code Interpreter](https://platform.openai.com/docs/assistants/tools/code-interpreter) 도구를 장착해보겠음 \n",
    "- 이 작업은 대시보드에서 수행할 수 있음\n"
   ]
  },
  {
   "cell_type": "code",
   "execution_count": 27,
   "id": "9659b9c4",
   "metadata": {},
   "outputs": [],
   "source": [
    "import json\n",
    "\n",
    "def show_json(obj):\n",
    "    display(json.loads(obj.model_dump_json()))"
   ]
  },
  {
   "cell_type": "code",
   "execution_count": 28,
   "id": "7cab4e6a",
   "metadata": {},
   "outputs": [
    {
     "data": {
      "text/plain": [
       "{'id': 'asst_J8WwgAVAMAsKm3t5uPDLX5gA',\n",
       " 'created_at': 1753188046,\n",
       " 'description': None,\n",
       " 'instructions': '너는 개인 수학 교사야. 질문에 한 문장 이하로 짧게 답해줘',\n",
       " 'metadata': {},\n",
       " 'model': 'gpt-4o',\n",
       " 'name': 'Math Tutor',\n",
       " 'object': 'assistant',\n",
       " 'tools': [{'type': 'code_interpreter'}],\n",
       " 'response_format': 'auto',\n",
       " 'temperature': 1.0,\n",
       " 'tool_resources': {'code_interpreter': {'file_ids': []}, 'file_search': None},\n",
       " 'top_p': 1.0,\n",
       " 'reasoning_effort': None}"
      ]
     },
     "metadata": {},
     "output_type": "display_data"
    }
   ],
   "source": [
    "assistant = client.beta.assistants.update(\n",
    "    MATH_ASSISTANT_ID,\n",
    "    tools=[{\"type\": \"code_interpreter\"}],\n",
    ")\n",
    "show_json(assistant)"
   ]
  },
  {
   "cell_type": "code",
   "execution_count": 29,
   "id": "60824a0e",
   "metadata": {},
   "outputs": [
    {
     "name": "stderr",
     "output_type": "stream",
     "text": [
      "C:\\Users\\jjsd4\\AppData\\Local\\Temp\\ipykernel_8868\\1054163418.py:2: DeprecationWarning: The Assistants API is deprecated in favor of the Responses API\n",
      "  thread = client.beta.threads.create()\n",
      "C:\\Users\\jjsd4\\AppData\\Local\\Temp\\ipykernel_8868\\3121078466.py:14: DeprecationWarning: The Assistants API is deprecated in favor of the Responses API\n",
      "  client.beta.threads.messages.create(\n",
      "C:\\Users\\jjsd4\\AppData\\Local\\Temp\\ipykernel_8868\\3121078466.py:17: DeprecationWarning: The Assistants API is deprecated in favor of the Responses API\n",
      "  return client.beta.threads.runs.create(\n",
      "C:\\Users\\jjsd4\\AppData\\Local\\Temp\\ipykernel_8868\\3121078466.py:23: DeprecationWarning: The Assistants API is deprecated in favor of the Responses API\n",
      "  return client.beta.threads.messages.list(thread_id=thread.id, order=\"asc\")\n"
     ]
    },
    {
     "name": "stdout",
     "output_type": "stream",
     "text": [
      "# Messages\n",
      "user: 코드를 사용하여 처음 10개의 피보나치 숫자를 생성해줘\n",
      "assistant: 처음 10개의 피보나치 숫자는 [0, 1, 1, 2, 3, 5, 8, 13, 21, 34]입니다.\n",
      "\n"
     ]
    }
   ],
   "source": [
    "thread, run = create_thread_and_run(\"코드를 사용하여 처음 10개의 피보나치 숫자를 생성해줘\")\n",
    "\n",
    "run = wait_on_run(run, thread)\n",
    "pretty_print(get_response(thread))"
   ]
  },
  {
   "cell_type": "markdown",
   "id": "c95f7225",
   "metadata": {},
   "source": [
    "일부 사용 사례에서는 이 정도면 충분할 수 있음 \n",
    "- 하지만 Assistant가 정확히 무엇을 하는지 더 자세히 알고 싶다면 Run의 Steps를 살펴볼 수 있음"
   ]
  },
  {
   "cell_type": "markdown",
   "id": "3829d70d",
   "metadata": {},
   "source": [
    "## <font color=yellow>Steps</font>\n",
    "\n",
    "Run은 하나 이상의 Steps로 구성됨 \n",
    "- Run과 마찬가지로 각 Step에는 조회할 수 있는 `status`가 있음 \n",
    "- 이는 사용자에게 Step의 진행 상황을 표시하는 데 유용함\n",
    "    - 예: Assistant가 코드를 작성하거나 검색을 수행하는 동안 스피너 표시"
   ]
  },
  {
   "cell_type": "code",
   "execution_count": 30,
   "id": "d487b911",
   "metadata": {},
   "outputs": [
    {
     "name": "stderr",
     "output_type": "stream",
     "text": [
      "C:\\Users\\jjsd4\\AppData\\Local\\Temp\\ipykernel_8868\\1035908624.py:1: DeprecationWarning: The Assistants API is deprecated in favor of the Responses API\n",
      "  run_steps = client.beta.threads.runs.steps.list(\n"
     ]
    }
   ],
   "source": [
    "run_steps = client.beta.threads.runs.steps.list(\n",
    "    thread_id=thread.id, \n",
    "    run_id=run.id, \n",
    "    order=\"asc\",\n",
    ")"
   ]
  },
  {
   "cell_type": "markdown",
   "id": "928d6700",
   "metadata": {},
   "source": [
    "각 Step의 `step_details`를 살펴보겠음"
   ]
  },
  {
   "cell_type": "code",
   "execution_count": 31,
   "id": "3107309f",
   "metadata": {},
   "outputs": [
    {
     "data": {
      "text/plain": [
       "{'tool_calls': [{'id': 'call_c2kA9fswBXFNCRbDxuutDETw',\n",
       "   'code_interpreter': {'input': '# Generate the first 10 Fibonacci numbers using a loop\\n\\ndef fibonacci_sequence(n):\\n    sequence = [0, 1]\\n    while len(sequence) < n:\\n        sequence.append(sequence[-1] + sequence[-2])\\n    return sequence[:n]\\n\\n# Get the first 10 Fibonacci numbers\\nfibonacci_numbers = fibonacci_sequence(10)\\nfibonacci_numbers',\n",
       "    'outputs': []},\n",
       "   'type': 'code_interpreter'}],\n",
       " 'type': 'tool_calls'}"
      ]
     },
     "metadata": {},
     "output_type": "display_data"
    },
    {
     "name": "stdout",
     "output_type": "stream",
     "text": [
      "null\n"
     ]
    },
    {
     "data": {
      "text/plain": [
       "{'message_creation': {'message_id': 'msg_u20fmJV088azvbd5z0BUYUyz'},\n",
       " 'type': 'message_creation'}"
      ]
     },
     "metadata": {},
     "output_type": "display_data"
    },
    {
     "name": "stdout",
     "output_type": "stream",
     "text": [
      "null\n"
     ]
    }
   ],
   "source": [
    "for step in run_steps.data:\n",
    "    step_details = step.step_details\n",
    "    print(json.dumps(show_json(step_details), indent=4))"
   ]
  },
  {
   "cell_type": "markdown",
   "id": "0336d9e6",
   "metadata": {},
   "source": [
    "두 Step의 `step_details`를 볼 수 있음\n",
    "\n",
    "1. `tool_calls` (하나의 Step에 하나 이상이 있을 수 있으므로 복수형)\n",
    "2. `message_creation`\n",
    "\n",
    "첫 번째 Step은 `tool_calls`로, 특히 `code_interpreter`를 사용하는데 여기에는 다음이 포함됨:\n",
    "\n",
    "- 도구가 호출되기 전에 생성된 Python 코드인 `input`, 그리고\n",
    "- Code Interpreter를 실행한 결과인 `output`.\n",
    "\n",
    "두 번째 Step은 `message_creation`으로, 사용자에게 결과를 전달하기 위해 Thread에 추가된 `message`가 포함되어 있음"
   ]
  },
  {
   "cell_type": "markdown",
   "id": "fdbf6e4a",
   "metadata": {},
   "source": [
    "## <font color=yellow>File Search</font>\n",
    "\n",
    "Assistants API의 또 다른 강력한 도구는 [file search](https://platform.openai.com/docs/assistants/tools/file-search/quickstart): \n",
    "- 질문에 답할 때 assistant가 지식 기반으로 사용할 파일을 업로드하는 기능 \n",
    "- 이 기능도 대시보드 또는 API에서 활성화할 수 있으며, 사용하고자 하는 파일을 업로드할 수 있음\n",
    "- `기존에 retrieve로 불렸는데, assistant API v2가 되면서 file search로 바뀜`\n",
    "    - `OpenAI에서 제공하는 벡터DB RAG 인듯`"
   ]
  },
  {
   "cell_type": "code",
   "execution_count": 32,
   "id": "7901fbe3",
   "metadata": {},
   "outputs": [
    {
     "name": "stdout",
     "output_type": "stream",
     "text": [
      "completed\n",
      "FileCounts(cancelled=0, completed=1, failed=0, in_progress=0, total=1)\n"
     ]
    }
   ],
   "source": [
    "# Create a vector store\n",
    "vector_store = client.vector_stores.create(name=\"machine learning\")\n",
    " \n",
    "# Ready the files for upload to OpenAI\n",
    "file_paths = [r\".\\data\\language_models_are_unsupervised_multitask_learners.pdf\"]\n",
    "file_streams = [open(path, \"rb\") for path in file_paths]\n",
    " \n",
    "# Use the upload and poll SDK helper to upload the files, add them to the vector store,\n",
    "# and poll the status of the file batch for completion.\n",
    "file_batch = client.vector_stores.file_batches.upload_and_poll(\n",
    "    vector_store_id=vector_store.id, \n",
    "    files=file_streams,\n",
    ")\n",
    "\n",
    "# You can print the status and the file counts of the batch to see the result of this operation.\n",
    "print(file_batch.status)\n",
    "print(file_batch.file_counts)"
   ]
  },
  {
   "cell_type": "code",
   "execution_count": 33,
   "id": "91a3368c",
   "metadata": {},
   "outputs": [
    {
     "data": {
      "text/plain": [
       "{'id': 'asst_J8WwgAVAMAsKm3t5uPDLX5gA',\n",
       " 'created_at': 1753188046,\n",
       " 'description': None,\n",
       " 'instructions': '너는 개인 수학 교사야. 질문에 한 문장 이하로 짧게 답해줘',\n",
       " 'metadata': {},\n",
       " 'model': 'gpt-4o',\n",
       " 'name': 'Math Tutor',\n",
       " 'object': 'assistant',\n",
       " 'tools': [{'type': 'code_interpreter'},\n",
       "  {'type': 'file_search',\n",
       "   'file_search': {'max_num_results': None,\n",
       "    'ranking_options': {'score_threshold': 0.0,\n",
       "     'ranker': 'default_2024_08_21'}}}],\n",
       " 'response_format': 'auto',\n",
       " 'temperature': 1.0,\n",
       " 'tool_resources': {'code_interpreter': {'file_ids': []},\n",
       "  'file_search': {'vector_store_ids': ['vs_687f86f002548191af650550c16a5ede']}},\n",
       " 'top_p': 1.0,\n",
       " 'reasoning_effort': None}"
      ]
     },
     "metadata": {},
     "output_type": "display_data"
    }
   ],
   "source": [
    "# Update Assistant\n",
    "assistant = client.beta.assistants.update(\n",
    "    MATH_ASSISTANT_ID,\n",
    "    tools=[{\"type\": \"code_interpreter\"}, {\"type\": \"file_search\"}],\n",
    "    tool_resources={\"file_search\": {\"vector_store_ids\": [vector_store.id]}}\n",
    ")\n",
    "show_json(assistant)"
   ]
  },
  {
   "cell_type": "code",
   "execution_count": 34,
   "id": "1d651952",
   "metadata": {},
   "outputs": [
    {
     "name": "stderr",
     "output_type": "stream",
     "text": [
      "C:\\Users\\jjsd4\\AppData\\Local\\Temp\\ipykernel_8868\\1054163418.py:2: DeprecationWarning: The Assistants API is deprecated in favor of the Responses API\n",
      "  thread = client.beta.threads.create()\n",
      "C:\\Users\\jjsd4\\AppData\\Local\\Temp\\ipykernel_8868\\3121078466.py:14: DeprecationWarning: The Assistants API is deprecated in favor of the Responses API\n",
      "  client.beta.threads.messages.create(\n",
      "C:\\Users\\jjsd4\\AppData\\Local\\Temp\\ipykernel_8868\\3121078466.py:17: DeprecationWarning: The Assistants API is deprecated in favor of the Responses API\n",
      "  return client.beta.threads.runs.create(\n",
      "C:\\Users\\jjsd4\\AppData\\Local\\Temp\\ipykernel_8868\\3121078466.py:23: DeprecationWarning: The Assistants API is deprecated in favor of the Responses API\n",
      "  return client.beta.threads.messages.list(thread_id=thread.id, order=\"asc\")\n"
     ]
    },
    {
     "name": "stdout",
     "output_type": "stream",
     "text": [
      "# Messages\n",
      "user: 이 논문의 배경이 되는 수학 개념은 뭐야? 두 문장으로 설명해줘\n",
      "assistant: 이 논문은 언어 모델의 수학적 개념으로 다중 작업 학습과 언어 모델링을 다루며, 다양한 작업을 학습하고 수행하기 위해 확률적 모델링을 사용합니다【4:0†source】.\n",
      "\n"
     ]
    }
   ],
   "source": [
    "thread, run = create_thread_and_run(\n",
    "    \"이 논문의 배경이 되는 수학 개념은 뭐야? 두 문장으로 설명해줘\"\n",
    ")\n",
    "run = wait_on_run(run, thread)\n",
    "pretty_print(get_response(thread))"
   ]
  },
  {
   "cell_type": "markdown",
   "id": "ebe5d5c8",
   "metadata": {},
   "source": [
    "> **Note**\n",
    "> Retrieval에는 [Annotations](https://platform.openai.com/docs/assistants/how-it-works/managing-threads-and-messages)와 같은 더 복잡한 기능들이 있으며, 이는 다른 쿡북에서 다룰 수 있음\n"
   ]
  },
  {
   "cell_type": "code",
   "execution_count": 53,
   "id": "fe220e65",
   "metadata": {},
   "outputs": [],
   "source": [
    "def get_mock_response_from_user_multiple_choice():\n",
    "    return \"a\"\n",
    "\n",
    "def get_mock_response_from_user_free_response():\n",
    "    return \"I don't know.\"\n",
    "\n",
    "def display_quiz(title, questions):\n",
    "    print(\"Quiz:\", title)\n",
    "    print()\n",
    "    responses = []\n",
    "\n",
    "    for q in questions:\n",
    "        print(q[\"question_text\"])\n",
    "        response = \"\"\n",
    "\n",
    "        # If multiple choice, print options\n",
    "        if q[\"question_type\"] == \"MULTIPLE_CHOICE\":\n",
    "            for i, choice in enumerate(q[\"choices\"]):\n",
    "                print(f\"{i}. {choice}\")\n",
    "            response = get_mock_response_from_user_multiple_choice()\n",
    "\n",
    "        # Otherwise, just get response\n",
    "        elif q[\"question_type\"] == \"FREE_RESPONSE\":\n",
    "            response = get_mock_response_from_user_free_response()\n",
    "\n",
    "        responses.append(response)\n",
    "        print()\n",
    "\n",
    "    return responses"
   ]
  },
  {
   "cell_type": "markdown",
   "id": "9686f588",
   "metadata": {},
   "source": [
    "다음은 샘플 퀴즈가 어떻게 보일지에 대한 예:"
   ]
  },
  {
   "cell_type": "code",
   "execution_count": 54,
   "id": "c0b184b8",
   "metadata": {},
   "outputs": [
    {
     "name": "stdout",
     "output_type": "stream",
     "text": [
      "Quiz: Sample Quiz\n",
      "\n",
      "이름이 뭐야?\n",
      "\n",
      "가장 좋아하는 색이 뭐야?\n",
      "0. 빨간색\n",
      "1. 파랑색\n",
      "2. 초록색\n",
      "3. 노란색\n",
      "\n",
      "Responses: [\"I don't know.\", 'a']\n"
     ]
    }
   ],
   "source": [
    "responses = display_quiz(\n",
    "    \"Sample Quiz\",\n",
    "    [\n",
    "        {\"question_text\": \"이름이 뭐야?\", \"question_type\": \"FREE_RESPONSE\"},\n",
    "        {\n",
    "            \"question_text\": \"가장 좋아하는 색이 뭐야?\",\n",
    "            \"question_type\": \"MULTIPLE_CHOICE\",\n",
    "            \"choices\": [\"빨간색\", \"파랑색\", \"초록색\", \"노란색\"],\n",
    "        },\n",
    "    ],\n",
    ")\n",
    "print(\"Responses:\", responses)"
   ]
  },
  {
   "cell_type": "markdown",
   "id": "c9794fdb",
   "metadata": {},
   "source": [
    "이제, Assistant가 호출할 수 있도록 이 함수의 인터페이스를 JSON 형식으로 정의해 보겠음"
   ]
  },
  {
   "cell_type": "code",
   "execution_count": 55,
   "id": "0444ceaa",
   "metadata": {},
   "outputs": [],
   "source": [
    "function_json = {\n",
    "    \"name\": \"display_quiz\",\n",
    "    \"description\": \"학생에게 퀴즈를 표시하고 학생의 응답을 반환합니다. 하나의 퀴즈에 여러 개의 질문이 포함될 수 있습니다.\",\n",
    "    \"parameters\": {\n",
    "        \"type\": \"object\",\n",
    "        \"properties\": {\n",
    "            \"title\": {\"type\": \"string\"},\n",
    "            \"questions\": {\n",
    "                \"type\": \"array\",\n",
    "                \"description\": \"제목과 옵션(객관식인 경우)이 있는 질문의 배열입니다.\",\n",
    "                \"items\": {\n",
    "                    \"type\": \"object\",\n",
    "                    \"properties\": {\n",
    "                        \"question_text\": {\"type\": \"string\"},\n",
    "                        \"question_type\": {\n",
    "                            \"type\": \"string\",\n",
    "                            \"enum\": [\"MULTIPLE_CHOICE\", \"FREE_RESPONSE\"],\n",
    "                        },\n",
    "                        \"choices\": {\"type\": \"array\", \"items\": {\"type\": \"string\"}},\n",
    "                    },\n",
    "                    \"required\": [\"question_text\"],\n",
    "                },\n",
    "            },\n",
    "        },\n",
    "        \"required\": [\"title\", \"questions\"],\n",
    "    },\n",
    "}"
   ]
  },
  {
   "cell_type": "markdown",
   "id": "102028f4",
   "metadata": {},
   "source": [
    "다시 한번, 대시보드나 API를 통해 우리의 Assistant를 업데이트해 보겠음"
   ]
  },
  {
   "cell_type": "code",
   "execution_count": 56,
   "id": "7b0081f0",
   "metadata": {},
   "outputs": [
    {
     "data": {
      "text/plain": [
       "{'id': 'asst_J8WwgAVAMAsKm3t5uPDLX5gA',\n",
       " 'created_at': 1753188046,\n",
       " 'description': None,\n",
       " 'instructions': '너는 개인 수학 교사야. 질문에 한 문장 이하로 짧게 답해줘',\n",
       " 'metadata': {},\n",
       " 'model': 'gpt-4o',\n",
       " 'name': 'Math Tutor',\n",
       " 'object': 'assistant',\n",
       " 'tools': [{'type': 'code_interpreter'},\n",
       "  {'type': 'file_search',\n",
       "   'file_search': {'max_num_results': None,\n",
       "    'ranking_options': {'score_threshold': 0.0,\n",
       "     'ranker': 'default_2024_08_21'}}},\n",
       "  {'function': {'name': 'display_quiz',\n",
       "    'description': '학생에게 퀴즈를 표시하고 학생의 응답을 반환합니다. 하나의 퀴즈에 여러 개의 질문이 포함될 수 있습니다.',\n",
       "    'parameters': {'type': 'object',\n",
       "     'properties': {'title': {'type': 'string'},\n",
       "      'questions': {'type': 'array',\n",
       "       'description': '제목과 옵션(객관식인 경우)이 있는 질문의 배열입니다.',\n",
       "       'items': {'type': 'object',\n",
       "        'properties': {'question_text': {'type': 'string'},\n",
       "         'question_type': {'type': 'string',\n",
       "          'enum': ['MULTIPLE_CHOICE', 'FREE_RESPONSE']},\n",
       "         'choices': {'type': 'array', 'items': {'type': 'string'}}},\n",
       "        'required': ['question_text']}}},\n",
       "     'required': ['title', 'questions']},\n",
       "    'strict': False},\n",
       "   'type': 'function'}],\n",
       " 'response_format': 'auto',\n",
       " 'temperature': 1.0,\n",
       " 'tool_resources': {'code_interpreter': {'file_ids': []},\n",
       "  'file_search': {'vector_store_ids': ['vs_687f86f002548191af650550c16a5ede']}},\n",
       " 'top_p': 1.0,\n",
       " 'reasoning_effort': None}"
      ]
     },
     "metadata": {},
     "output_type": "display_data"
    }
   ],
   "source": [
    "assistant = client.beta.assistants.update(\n",
    "    MATH_ASSISTANT_ID,\n",
    "    tools=[\n",
    "        {\"type\": \"code_interpreter\"},\n",
    "        {\"type\": \"file_search\"},\n",
    "        {\"type\": \"function\", \"function\": function_json},\n",
    "    ],\n",
    ")\n",
    "show_json(assistant)"
   ]
  },
  {
   "cell_type": "markdown",
   "id": "36c0cd6b",
   "metadata": {},
   "source": [
    "퀴즈를 요청"
   ]
  },
  {
   "cell_type": "code",
   "execution_count": 57,
   "id": "a70476e0",
   "metadata": {},
   "outputs": [
    {
     "name": "stderr",
     "output_type": "stream",
     "text": [
      "C:\\Users\\jjsd4\\AppData\\Local\\Temp\\ipykernel_8868\\1054163418.py:2: DeprecationWarning: The Assistants API is deprecated in favor of the Responses API\n",
      "  thread = client.beta.threads.create()\n",
      "C:\\Users\\jjsd4\\AppData\\Local\\Temp\\ipykernel_8868\\3121078466.py:14: DeprecationWarning: The Assistants API is deprecated in favor of the Responses API\n",
      "  client.beta.threads.messages.create(\n",
      "C:\\Users\\jjsd4\\AppData\\Local\\Temp\\ipykernel_8868\\3121078466.py:17: DeprecationWarning: The Assistants API is deprecated in favor of the Responses API\n",
      "  return client.beta.threads.runs.create(\n"
     ]
    },
    {
     "data": {
      "text/plain": [
       "'requires_action'"
      ]
     },
     "execution_count": 57,
     "metadata": {},
     "output_type": "execute_result"
    }
   ],
   "source": [
    "thread, run = create_thread_and_run(\n",
    "    \"두 가지 질문으로 퀴즈를 만들어줘. 하나는 주관식, 하나는 객관식으로, 그런 다음 답변에 대한 피드백을 보내줘\"\n",
    ")\n",
    "run = wait_on_run(run, thread)\n",
    "run.status"
   ]
  },
  {
   "cell_type": "markdown",
   "id": "28694d83",
   "metadata": {},
   "source": [
    "하지만 이제 Run의 `status`를 확인하면 `requires_action`이 표시됨"
   ]
  },
  {
   "cell_type": "code",
   "execution_count": 58,
   "id": "45bd713d",
   "metadata": {},
   "outputs": [
    {
     "data": {
      "text/plain": [
       "{'id': 'run_jSLoWPnUvEYgi3BGOTcrUT6f',\n",
       " 'assistant_id': 'asst_J8WwgAVAMAsKm3t5uPDLX5gA',\n",
       " 'cancelled_at': None,\n",
       " 'completed_at': None,\n",
       " 'created_at': 1753189260,\n",
       " 'expires_at': 1753189860,\n",
       " 'failed_at': None,\n",
       " 'incomplete_details': None,\n",
       " 'instructions': '너는 개인 수학 교사야. 질문에 한 문장 이하로 짧게 답해줘',\n",
       " 'last_error': None,\n",
       " 'max_completion_tokens': None,\n",
       " 'max_prompt_tokens': None,\n",
       " 'metadata': {},\n",
       " 'model': 'gpt-4o',\n",
       " 'object': 'thread.run',\n",
       " 'parallel_tool_calls': True,\n",
       " 'required_action': {'submit_tool_outputs': {'tool_calls': [{'id': 'call_2Fa1mR4KEUvX88dGkBfhHQua',\n",
       "     'function': {'arguments': '{\"title\": \"Math Quiz\", \"questions\": [{\"question_text\": \"파이의 값은 무엇입니까?\", \"question_type\": \"FREE_RESPONSE\"}, {\"question_text\": \"다음 중 삼각형의 내각의 합은?\", \"question_type\": \"MULTIPLE_CHOICE\", \"choices\": [\"180도\", \"90도\", \"360도\", \"270도\"]}]}',\n",
       "      'name': 'display_quiz'},\n",
       "     'type': 'function'},\n",
       "    {'id': 'call_iwAhTTpxGddeBM3uFgDGwJz1',\n",
       "     'function': {'arguments': '{\"title\": \"Feedback Quiz\", \"questions\": [{\"question_text\": \"파이의 값은 무엇입니까?\", \"question_type\": \"FREE_RESPONSE\"}, {\"question_text\": \"다음 중 삼각형의 내각의 합은?\", \"question_type\": \"MULTIPLE_CHOICE\", \"choices\": [\"180도\", \"90도\", \"360도\", \"270도\"]}]}',\n",
       "      'name': 'display_quiz'},\n",
       "     'type': 'function'}]},\n",
       "  'type': 'submit_tool_outputs'},\n",
       " 'response_format': 'auto',\n",
       " 'started_at': 1753189261,\n",
       " 'status': 'requires_action',\n",
       " 'thread_id': 'thread_ARgYVUS6Q7zJpvoy1jUor4dr',\n",
       " 'tool_choice': 'auto',\n",
       " 'tools': [{'type': 'code_interpreter'},\n",
       "  {'type': 'file_search',\n",
       "   'file_search': {'max_num_results': None,\n",
       "    'ranking_options': {'score_threshold': 0.0,\n",
       "     'ranker': 'default_2024_08_21'}}},\n",
       "  {'function': {'name': 'display_quiz',\n",
       "    'description': '학생에게 퀴즈를 표시하고 학생의 응답을 반환합니다. 하나의 퀴즈에 여러 개의 질문이 포함될 수 있습니다.',\n",
       "    'parameters': {'type': 'object',\n",
       "     'properties': {'title': {'type': 'string'},\n",
       "      'questions': {'type': 'array',\n",
       "       'description': '제목과 옵션(객관식인 경우)이 있는 질문의 배열입니다.',\n",
       "       'items': {'type': 'object',\n",
       "        'properties': {'question_text': {'type': 'string'},\n",
       "         'question_type': {'type': 'string',\n",
       "          'enum': ['MULTIPLE_CHOICE', 'FREE_RESPONSE']},\n",
       "         'choices': {'type': 'array', 'items': {'type': 'string'}}},\n",
       "        'required': ['question_text']}}},\n",
       "     'required': ['title', 'questions']},\n",
       "    'strict': False},\n",
       "   'type': 'function'}],\n",
       " 'truncation_strategy': {'type': 'auto', 'last_messages': None},\n",
       " 'usage': None,\n",
       " 'temperature': 1.0,\n",
       " 'top_p': 1.0,\n",
       " 'tool_resources': {},\n",
       " 'reasoning_effort': None}"
      ]
     },
     "metadata": {},
     "output_type": "display_data"
    }
   ],
   "source": [
    "show_json(run)"
   ]
  },
  {
   "cell_type": "markdown",
   "id": "e0357868",
   "metadata": {},
   "source": [
    "`required_action` 필드는 도구가 우리에게 실행하고 그 결과를 Assistant에게 제출하도록 대기 중인 것을 나타냄 \n",
    "- 구체적으로 `display_quiz` 함수\n",
    "- 먼저 `name` 및 `arguments`를 구문 분석하는 것부터 시작해 보겠음\n",
    "\n",
    "> **참고**\n",
    "> 이 경우에는 하나의 도구 호출하지만, 실제로는 Assistant는 여러 도구를 호출하기로 선택할 수 있"
   ]
  },
  {
   "cell_type": "code",
   "execution_count": 59,
   "id": "4c641f8c",
   "metadata": {},
   "outputs": [
    {
     "name": "stdout",
     "output_type": "stream",
     "text": [
      "Function Name: display_quiz\n",
      "Function Arguments:\n"
     ]
    },
    {
     "data": {
      "text/plain": [
       "{'title': 'Math Quiz',\n",
       " 'questions': [{'question_text': '파이의 값은 무엇입니까?',\n",
       "   'question_type': 'FREE_RESPONSE'},\n",
       "  {'question_text': '다음 중 삼각형의 내각의 합은?',\n",
       "   'question_type': 'MULTIPLE_CHOICE',\n",
       "   'choices': ['180도', '90도', '360도', '270도']}]}"
      ]
     },
     "execution_count": 59,
     "metadata": {},
     "output_type": "execute_result"
    }
   ],
   "source": [
    "# Extract single tool call\n",
    "tool_call = run.required_action.submit_tool_outputs.tool_calls[0]\n",
    "name = tool_call.function.name\n",
    "arguments = json.loads(tool_call.function.arguments)\n",
    "\n",
    "print(\"Function Name:\", name)\n",
    "print(\"Function Arguments:\")\n",
    "arguments"
   ]
  },
  {
   "cell_type": "markdown",
   "id": "5c97d4d8",
   "metadata": {},
   "source": [
    "이제 Assistant에서 제공한 인수를 사용하여 실제로 `display_quiz` 함수를 호출해 보겠음"
   ]
  },
  {
   "cell_type": "code",
   "execution_count": 60,
   "id": "bbbfaca2",
   "metadata": {},
   "outputs": [
    {
     "name": "stdout",
     "output_type": "stream",
     "text": [
      "Quiz: Math Quiz\n",
      "\n",
      "파이의 값은 무엇입니까?\n",
      "\n",
      "다음 중 삼각형의 내각의 합은?\n",
      "0. 180도\n",
      "1. 90도\n",
      "2. 360도\n",
      "3. 270도\n",
      "\n",
      "Responses: [\"I don't know.\", 'a']\n"
     ]
    }
   ],
   "source": [
    "responses = display_quiz(arguments[\"title\"], arguments[\"questions\"])\n",
    "print(\"Responses:\", responses)"
   ]
  },
  {
   "cell_type": "markdown",
   "id": "3dcc1c74",
   "metadata": {},
   "source": [
    "(이 응답들은 이전에 모의로 만들었던 것임, 실제로는 이 함수 호출에서 입력을 다시 받아올 것임)\n",
    "\n",
    "이제 응답을 얻었으므로, Assistant에게 다시 제출\n",
    "- 이전에 분석한 `tool_call`에서 찾을 수 있는 `tool_call` ID가 필요함 \n",
    "- 또한 응답들의 `list`를 `str`로 인코딩해야 함"
   ]
  },
  {
   "cell_type": "code",
   "execution_count": 61,
   "id": "ef589aeb",
   "metadata": {},
   "outputs": [
    {
     "name": "stdout",
     "output_type": "stream",
     "text": [
      "Function Name: display_quiz\n",
      "Function Arguments: {'title': 'Math Quiz', 'questions': [{'question_text': '파이의 값은 무엇입니까?', 'question_type': 'FREE_RESPONSE'}, {'question_text': '다음 중 삼각형의 내각의 합은?', 'question_type': 'MULTIPLE_CHOICE', 'choices': ['180도', '90도', '360도', '270도']}]}\n",
      "Quiz: Math Quiz\n",
      "\n",
      "파이의 값은 무엇입니까?\n",
      "\n",
      "다음 중 삼각형의 내각의 합은?\n",
      "0. 180도\n",
      "1. 90도\n",
      "2. 360도\n",
      "3. 270도\n",
      "\n",
      "Responses: [\"I don't know.\", 'a']\n",
      "Function Name: display_quiz\n",
      "Function Arguments: {'title': 'Feedback Quiz', 'questions': [{'question_text': '파이의 값은 무엇입니까?', 'question_type': 'FREE_RESPONSE'}, {'question_text': '다음 중 삼각형의 내각의 합은?', 'question_type': 'MULTIPLE_CHOICE', 'choices': ['180도', '90도', '360도', '270도']}]}\n",
      "Quiz: Feedback Quiz\n",
      "\n",
      "파이의 값은 무엇입니까?\n",
      "\n",
      "다음 중 삼각형의 내각의 합은?\n",
      "0. 180도\n",
      "1. 90도\n",
      "2. 360도\n",
      "3. 270도\n",
      "\n",
      "Responses: [\"I don't know.\", 'a']\n"
     ]
    },
    {
     "name": "stderr",
     "output_type": "stream",
     "text": [
      "C:\\Users\\jjsd4\\AppData\\Local\\Temp\\ipykernel_8868\\4229150356.py:24: DeprecationWarning: The Assistants API is deprecated in favor of the Responses API\n",
      "  run = client.beta.threads.runs.submit_tool_outputs(\n"
     ]
    },
    {
     "data": {
      "text/plain": [
       "{'id': 'run_jSLoWPnUvEYgi3BGOTcrUT6f',\n",
       " 'assistant_id': 'asst_J8WwgAVAMAsKm3t5uPDLX5gA',\n",
       " 'cancelled_at': None,\n",
       " 'completed_at': None,\n",
       " 'created_at': 1753189260,\n",
       " 'expires_at': 1753189860,\n",
       " 'failed_at': None,\n",
       " 'incomplete_details': None,\n",
       " 'instructions': '너는 개인 수학 교사야. 질문에 한 문장 이하로 짧게 답해줘',\n",
       " 'last_error': None,\n",
       " 'max_completion_tokens': None,\n",
       " 'max_prompt_tokens': None,\n",
       " 'metadata': {},\n",
       " 'model': 'gpt-4o',\n",
       " 'object': 'thread.run',\n",
       " 'parallel_tool_calls': True,\n",
       " 'required_action': None,\n",
       " 'response_format': 'auto',\n",
       " 'started_at': 1753189261,\n",
       " 'status': 'queued',\n",
       " 'thread_id': 'thread_ARgYVUS6Q7zJpvoy1jUor4dr',\n",
       " 'tool_choice': 'auto',\n",
       " 'tools': [{'type': 'code_interpreter'},\n",
       "  {'type': 'file_search',\n",
       "   'file_search': {'max_num_results': None,\n",
       "    'ranking_options': {'score_threshold': 0.0,\n",
       "     'ranker': 'default_2024_08_21'}}},\n",
       "  {'function': {'name': 'display_quiz',\n",
       "    'description': '학생에게 퀴즈를 표시하고 학생의 응답을 반환합니다. 하나의 퀴즈에 여러 개의 질문이 포함될 수 있습니다.',\n",
       "    'parameters': {'type': 'object',\n",
       "     'properties': {'title': {'type': 'string'},\n",
       "      'questions': {'type': 'array',\n",
       "       'description': '제목과 옵션(객관식인 경우)이 있는 질문의 배열입니다.',\n",
       "       'items': {'type': 'object',\n",
       "        'properties': {'question_text': {'type': 'string'},\n",
       "         'question_type': {'type': 'string',\n",
       "          'enum': ['MULTIPLE_CHOICE', 'FREE_RESPONSE']},\n",
       "         'choices': {'type': 'array', 'items': {'type': 'string'}}},\n",
       "        'required': ['question_text']}}},\n",
       "     'required': ['title', 'questions']},\n",
       "    'strict': False},\n",
       "   'type': 'function'}],\n",
       " 'truncation_strategy': {'type': 'auto', 'last_messages': None},\n",
       " 'usage': None,\n",
       " 'temperature': 1.0,\n",
       " 'top_p': 1.0,\n",
       " 'tool_resources': {},\n",
       " 'reasoning_effort': None}"
      ]
     },
     "metadata": {},
     "output_type": "display_data"
    }
   ],
   "source": [
    "tool_outputs = []\n",
    "\n",
    "for tool_call in run.required_action.submit_tool_outputs.tool_calls:\n",
    "    name = tool_call.function.name\n",
    "    arguments = json.loads(tool_call.function.arguments)\n",
    "\n",
    "    print(\"Function Name:\", name)\n",
    "    print(\"Function Arguments:\", arguments)\n",
    "\n",
    "    if name == \"display_quiz\":\n",
    "        responses = display_quiz(arguments[\"title\"], arguments[\"questions\"])\n",
    "        print(\"Responses:\", responses)\n",
    "\n",
    "        output = json.dumps(responses)\n",
    "    else:\n",
    "        output = json.dumps(f\"No handler implemented for function: {name}\")\n",
    "\n",
    "    tool_outputs.append({\n",
    "        \"tool_call_id\": tool_call.id,\n",
    "        \"output\": output,\n",
    "    })\n",
    "\n",
    "# 툴 호출 결과 모두 제출\n",
    "run = client.beta.threads.runs.submit_tool_outputs(\n",
    "    thread_id=thread.id,\n",
    "    run_id=run.id,\n",
    "    tool_outputs=tool_outputs,\n",
    ")\n",
    "\n",
    "show_json(run)"
   ]
  },
  {
   "cell_type": "markdown",
   "id": "1916449c",
   "metadata": {},
   "source": [
    "이제 다시 Run이 완료될 때까지 기다릴 수 있으며, Thread를 확인해 보겠음"
   ]
  },
  {
   "cell_type": "code",
   "execution_count": 63,
   "id": "50a0ee4b",
   "metadata": {},
   "outputs": [
    {
     "name": "stderr",
     "output_type": "stream",
     "text": [
      "C:\\Users\\jjsd4\\AppData\\Local\\Temp\\ipykernel_8868\\2754427285.py:14: DeprecationWarning: The Assistants API is deprecated in favor of the Responses API\n",
      "  run = client.beta.threads.runs.retrieve(\n",
      "C:\\Users\\jjsd4\\AppData\\Local\\Temp\\ipykernel_8868\\3121078466.py:23: DeprecationWarning: The Assistants API is deprecated in favor of the Responses API\n",
      "  return client.beta.threads.messages.list(thread_id=thread.id, order=\"asc\")\n"
     ]
    },
    {
     "name": "stdout",
     "output_type": "stream",
     "text": [
      "# Messages\n",
      "user: 두 가지 질문으로 퀴즈를 만들어줘. 하나는 주관식, 하나는 객관식으로, 그런 다음 답변에 대한 피드백을 보내줘\n",
      "assistant: 퀴즈에 대한 피드백을 드리겠습니다:\n",
      "\n",
      "1. **주관식** - \"파이의 값은 무엇입니까?\": 일반적으로 3.14159로 표현됩니다.\n",
      "2. **객관식** - \"다음 중 삼각형의 내각의 합은?\": 정답은 \"180도\" 입니다.\n",
      "\n"
     ]
    }
   ],
   "source": [
    "run = wait_on_run(run, thread)\n",
    "pretty_print(get_response(thread))"
   ]
  },
  {
   "cell_type": "markdown",
   "id": "ac4959ed",
   "metadata": {},
   "source": [
    "## 결론\n",
    "간략함을 유지하기 위해 다루지 않은 몇 가지 섹션도 있으므로 더 자세히 살펴볼 수 있는 몇 가지 리소스를 제공함\n",
    "\n",
    "- [Annotations](https://platform.openai.com/docs/assistants/how-it-works/managing-threads-and-messages): 파일 인용문 구문 분석\n",
    "- [Files](https://platform.openai.com/docs/api-reference/assistants/file-object): Thread 범위 vs Assistant 범위\n",
    "- [Parallel Function Calls](https://platform.openai.com/docs/guides/function-calling/parallel-function-calling): 하나의 단계에서 여러 도구 호출\n",
    "- Multi-Assistant Thread Runs: 여러 Assistant에서 온 메시지가 있는 단일 Thread"
   ]
  },
  {
   "cell_type": "markdown",
   "id": "ad512607",
   "metadata": {},
   "source": []
  }
 ],
 "metadata": {
  "kernelspec": {
   "display_name": "torch",
   "language": "python",
   "name": "python3"
  },
  "language_info": {
   "codemirror_mode": {
    "name": "ipython",
    "version": 3
   },
   "file_extension": ".py",
   "mimetype": "text/x-python",
   "name": "python",
   "nbconvert_exporter": "python",
   "pygments_lexer": "ipython3",
   "version": "3.11.8"
  }
 },
 "nbformat": 4,
 "nbformat_minor": 5
}
